{
 "cells": [
  {
   "cell_type": "markdown",
   "id": "68744f63-fcc9-4759-9996-f7768fa62305",
   "metadata": {},
   "source": [
    "# Credit Card Fraud Prediction - Loading Dataset using Snowpark Python\n",
    "\n",
    "This example is based on the Machine Learning for Credit Card Fraud detection - Practical handbook, https://fraud-detection-handbook.github.io/fraud-detection-handbook/"
   ]
  },
  {
   "cell_type": "markdown",
   "id": "3baa542d-92f7-4a79-a8ea-be189bda306a",
   "metadata": {},
   "source": [
    "## Loading Credit Card Transactions into Snowflake\n",
    "\n",
    "### Import the dependencies and connect to Snowflake"
   ]
  },
  {
   "cell_type": "code",
   "execution_count": 5,
   "id": "731d3ad3-48ce-498a-83e4-9efb780e5a46",
   "metadata": {},
   "outputs": [
    {
     "name": "stdout",
     "output_type": "stream",
     "text": [
      "Using Snowpark for Python version: 1.0.0\n"
     ]
    }
   ],
   "source": [
    "# Snowpark\n",
    "import snowflake.snowpark as snp\n",
    "import snowflake.snowpark.functions as F\n",
    "import snowflake.snowpark.types as T\n",
    "from snowflake.snowpark import Session\n",
    "import json\n",
    "\n",
    "print(f\"Using Snowpark for Python version: {snp.__version__}\")"
   ]
  },
  {
   "cell_type": "markdown",
   "id": "787c6f32-d170-48b4-bee1-be476d1d5db1",
   "metadata": {},
   "source": [
    "Get connection parameters"
   ]
  },
  {
   "cell_type": "code",
   "execution_count": 6,
   "metadata": {},
   "outputs": [
    {
     "name": "stdout",
     "output_type": "stream",
     "text": [
      "Current schema: \"SNOWFLAKE\".\"PUBLIC\"\n",
      "Current role: \"ACCOUNTADMIN\"\n",
      "Current warehouse: \"COMPUTE_WH\"\n"
     ]
    }
   ],
   "source": [
    "#Create ses\n",
    "f = open('/Users/erich.wiehahn/Documents/Training/Snowflake/params.json') #insert creds here\n",
    "params = json.load(f)\n",
    "\n",
    "connection_parameters = {\n",
    "    \"user\": params['user'],\n",
    "    \"account\": params['account'],\n",
    "    \"password\": params['password'],\n",
    "    \"database\": \"SNOWFLAKE\",\n",
    "    \"schema\": \"PUBLIC\",\n",
    "    \"role\": \"ACCOUNTADMIN\"\n",
    "}\n",
    "session = Session.builder.configs(connection_parameters).create()\n",
    "#session.sql_simplifier_enabled = True\n",
    "print(f\"Current schema: {session.get_fully_qualified_current_schema()}\")\n",
    "print(f\"Current role: {session.get_current_role()}\")\n",
    "print(f\"Current warehouse: {session.get_current_warehouse()}\")"
   ]
  },
  {
   "cell_type": "code",
   "execution_count": 8,
   "id": "df3dd270",
   "metadata": {},
   "outputs": [
    {
     "name": "stdout",
     "output_type": "stream",
     "text": [
      "Current schema: \"CREDIT_FRAUD\".\"PUBLIC\"\n"
     ]
    }
   ],
   "source": [
    "#Create database and schema if not already existing\n",
    "session.sql(\"CREATE DATABASE IF NOT EXISTS credit_fraud\").collect()\n",
    "session.sql(\"USE DATABASE credit_fraud\").collect()\n",
    "print(f\"Current schema: {session.get_fully_qualified_current_schema()}\")"
   ]
  },
  {
   "cell_type": "markdown",
   "id": "04cdd2e3-27bb-4a8a-9bdd-011759cc7882",
   "metadata": {},
   "source": [
    "### Define Staging Area and the Schema for the transaction table\n",
    "\n",
    "Using SQL we can create a internal stage and then use the **put** function to uplad the **fraud_transactions.csv.gz** file to it."
   ]
  },
  {
   "cell_type": "code",
   "execution_count": 9,
   "id": "998ff299-6597-4a9d-a034-09c57472a478",
   "metadata": {},
   "outputs": [
    {
     "data": {
      "text/plain": [
       "[PutResult(source='fraud_transactions.csv.gz', target='fraud_transactions.csv.gz', source_size=21382572, target_size=21382576, source_compression='GZIP', target_compression='GZIP', status='UPLOADED', message='')]"
      ]
     },
     "execution_count": 9,
     "metadata": {},
     "output_type": "execute_result"
    }
   ],
   "source": [
    "stage_name = \"FRAUD_DATA\"\n",
    "# Create a internal staging area for uploading the source file\n",
    "session.sql(f\"CREATE or replace STAGE {stage_name}\").collect()\n",
    "\n",
    "# Upload the source file to the stage\n",
    "putResult = session.file.put(\"data/fraud_transactions.csv.gz\", f\"@{stage_name}\", auto_compress=False, overwrite=True)\n",
    "\n",
    "putResult"
   ]
  },
  {
   "cell_type": "markdown",
   "id": "87476649-9e5b-4907-be64-2dcaea28a6b8",
   "metadata": {},
   "source": [
    "Define the schma for our **CUSTOMER_TRANSACTIONS_FRAUD** table"
   ]
  },
  {
   "cell_type": "code",
   "execution_count": 10,
   "id": "a372c7ee-62e1-4b77-a923-efb4d840d512",
   "metadata": {},
   "outputs": [],
   "source": [
    "# Define the schema for the Frauds table\n",
    "dfCustTrxFraudSchema = T.StructType(\n",
    "    [\n",
    "        T.StructField(\"TRANSACTION_ID\", T.IntegerType()),\n",
    "        T.StructField(\"TX_DATETIME\", T.TimestampType()),\n",
    "        T.StructField(\"CUSTOMER_ID\", T.IntegerType()),\n",
    "        T.StructField(\"TERMINAL_ID\", T.IntegerType()),\n",
    "        T.StructField(\"TX_AMOUNT\", T.FloatType()),\n",
    "        T.StructField(\"TX_TIME_SECONDS\", T.IntegerType()),\n",
    "        T.StructField(\"TX_TIME_DAYS\", T.IntegerType()),\n",
    "        T.StructField(\"TX_FRAUD\", T.IntegerType()),\n",
    "        T.StructField(\"TX_FRAUD_SCENARIO\", T.IntegerType())\n",
    "    ]\n",
    ")"
   ]
  },
  {
   "cell_type": "markdown",
   "id": "a7ae5a4d-9058-4428-aa27-328dfbf2bd68",
   "metadata": {},
   "source": [
    "Load the **fraud_transactions.csv.gz** to a DataFrame reader and save into a table"
   ]
  },
  {
   "cell_type": "code",
   "execution_count": 11,
   "id": "d2a1dade-44be-497a-82e7-ace3c2462966",
   "metadata": {},
   "outputs": [],
   "source": [
    "# Crete a reader\n",
    "dfReader = session.read.schema(dfCustTrxFraudSchema)\n",
    "\n",
    "# Get the data into the data frame\n",
    "dfCustTrxFraudRd = dfReader.csv(f\"@{stage_name}/fraud_transactions.csv.gz\")"
   ]
  },
  {
   "cell_type": "code",
   "execution_count": 12,
   "id": "358c8a6f-4e05-4a82-bde5-3695c701f8af",
   "metadata": {},
   "outputs": [],
   "source": [
    "# Write the dataframe in a table\n",
    "ret = dfCustTrxFraudRd.write.mode(\"overwrite\").saveAsTable(\"CUSTOMER_TRANSACTIONS_FRAUD\")"
   ]
  },
  {
   "cell_type": "code",
   "execution_count": 13,
   "id": "b2d8c7dc",
   "metadata": {},
   "outputs": [
    {
     "name": "stdout",
     "output_type": "stream",
     "text": [
      "----------------------------------------------------------------------------------------------------------------------------------------------------------------\n",
      "|\"TRANSACTION_ID\"  |\"TX_DATETIME\"        |\"CUSTOMER_ID\"  |\"TERMINAL_ID\"  |\"TX_AMOUNT\"  |\"TX_TIME_SECONDS\"  |\"TX_TIME_DAYS\"  |\"TX_FRAUD\"  |\"TX_FRAUD_SCENARIO\"  |\n",
      "----------------------------------------------------------------------------------------------------------------------------------------------------------------\n",
      "|0                 |2019-04-01 00:00:31  |596            |3156           |57.16        |31                 |0               |0           |0                    |\n",
      "|1                 |2019-04-01 00:02:10  |4961           |3412           |81.51        |130                |0               |0           |0                    |\n",
      "|2                 |2019-04-01 00:07:56  |2              |1365           |146.0        |476                |0               |0           |0                    |\n",
      "|3                 |2019-04-01 00:09:29  |4128           |8737           |64.49        |569                |0               |0           |0                    |\n",
      "|4                 |2019-04-01 00:10:34  |927            |9906           |50.99        |634                |0               |0           |0                    |\n",
      "|5                 |2019-04-01 00:10:45  |568            |8803           |44.71        |645                |0               |0           |0                    |\n",
      "|6                 |2019-04-01 00:11:30  |2803           |5490           |96.03        |690                |0               |0           |0                    |\n",
      "|7                 |2019-04-01 00:11:44  |4684           |2486           |24.36        |704                |0               |0           |0                    |\n",
      "|8                 |2019-04-01 00:11:53  |4128           |8354           |26.34        |713                |0               |0           |0                    |\n",
      "|9                 |2019-04-01 00:13:44  |541            |6212           |59.07        |824                |0               |0           |0                    |\n",
      "----------------------------------------------------------------------------------------------------------------------------------------------------------------\n",
      "\n"
     ]
    }
   ],
   "source": [
    "#We can now query this table\n",
    "session.sql(\"SELECT * FROM CUSTOMER_TRANSACTIONS_FRAUD\").show()"
   ]
  },
  {
   "cell_type": "markdown",
   "id": "ca2c401b-cfa3-41d0-a7c6-59cb0ae0cf50",
   "metadata": {},
   "source": [
    "### Read the data from the staging area and create CUSTOMER_TRANSACTIONS_FRAUD, CUSTOMERS and TERMINALS tables"
   ]
  },
  {
   "cell_type": "code",
   "execution_count": 14,
   "id": "14282b62-c4f7-4b5a-a19e-eb1aeff7064a",
   "metadata": {},
   "outputs": [],
   "source": [
    "# Now create Customers and Terminal tables\n",
    "\n",
    "dfCustTrxFraudTb =session.table(\"CUSTOMER_TRANSACTIONS_FRAUD\")\n",
    "\n",
    "dfCustomers = dfCustTrxFraudTb.select(F.col(\"CUSTOMER_ID\")).distinct().sort(F.col(\"CUSTOMER_ID\"))\n",
    "\n",
    "dfTerminals = dfCustTrxFraudTb.select(F.col(\"TERMINAL_ID\")).distinct().sort(F.col(\"TERMINAL_ID\"))\n",
    "                                \n",
    "ret2 = dfCustomers.write.mode(\"overwrite\").saveAsTable(\"CUSTOMERS\")\n",
    "\n",
    "ret3 = dfTerminals.write.mode(\"overwrite\").saveAsTable(\"TERMINALS\")"
   ]
  },
  {
   "cell_type": "code",
   "execution_count": 15,
   "id": "ee6c44b0-136a-438b-b19f-bf395a79efad",
   "metadata": {},
   "outputs": [
    {
     "name": "stdout",
     "output_type": "stream",
     "text": [
      "----------------------------------------------------------------------------------------------------------------------------------------------------------------\n",
      "|\"TRANSACTION_ID\"  |\"TX_DATETIME\"        |\"CUSTOMER_ID\"  |\"TERMINAL_ID\"  |\"TX_AMOUNT\"  |\"TX_TIME_SECONDS\"  |\"TX_TIME_DAYS\"  |\"TX_FRAUD\"  |\"TX_FRAUD_SCENARIO\"  |\n",
      "----------------------------------------------------------------------------------------------------------------------------------------------------------------\n",
      "|0                 |2019-04-01 00:00:31  |596            |3156           |57.16        |31                 |0               |0           |0                    |\n",
      "|1                 |2019-04-01 00:02:10  |4961           |3412           |81.51        |130                |0               |0           |0                    |\n",
      "|2                 |2019-04-01 00:07:56  |2              |1365           |146.0        |476                |0               |0           |0                    |\n",
      "|3                 |2019-04-01 00:09:29  |4128           |8737           |64.49        |569                |0               |0           |0                    |\n",
      "|4                 |2019-04-01 00:10:34  |927            |9906           |50.99        |634                |0               |0           |0                    |\n",
      "|5                 |2019-04-01 00:10:45  |568            |8803           |44.71        |645                |0               |0           |0                    |\n",
      "|6                 |2019-04-01 00:11:30  |2803           |5490           |96.03        |690                |0               |0           |0                    |\n",
      "|7                 |2019-04-01 00:11:44  |4684           |2486           |24.36        |704                |0               |0           |0                    |\n",
      "|8                 |2019-04-01 00:11:53  |4128           |8354           |26.34        |713                |0               |0           |0                    |\n",
      "|9                 |2019-04-01 00:13:44  |541            |6212           |59.07        |824                |0               |0           |0                    |\n",
      "----------------------------------------------------------------------------------------------------------------------------------------------------------------\n",
      "\n"
     ]
    }
   ],
   "source": [
    "dfCustTrxFraudTb.show()"
   ]
  },
  {
   "cell_type": "code",
   "execution_count": 16,
   "id": "cb064d9c",
   "metadata": {},
   "outputs": [
    {
     "data": {
      "text/html": [
       "<div>\n",
       "<style scoped>\n",
       "    .dataframe tbody tr th:only-of-type {\n",
       "        vertical-align: middle;\n",
       "    }\n",
       "\n",
       "    .dataframe tbody tr th {\n",
       "        vertical-align: top;\n",
       "    }\n",
       "\n",
       "    .dataframe thead th {\n",
       "        text-align: right;\n",
       "    }\n",
       "</style>\n",
       "<table border=\"1\" class=\"dataframe\">\n",
       "  <thead>\n",
       "    <tr style=\"text-align: right;\">\n",
       "      <th></th>\n",
       "      <th>TRANSACTION_ID</th>\n",
       "      <th>TX_DATETIME</th>\n",
       "      <th>CUSTOMER_ID</th>\n",
       "      <th>TERMINAL_ID</th>\n",
       "      <th>TX_AMOUNT</th>\n",
       "      <th>TX_TIME_SECONDS</th>\n",
       "      <th>TX_TIME_DAYS</th>\n",
       "      <th>TX_FRAUD</th>\n",
       "      <th>TX_FRAUD_SCENARIO</th>\n",
       "    </tr>\n",
       "  </thead>\n",
       "  <tbody>\n",
       "    <tr>\n",
       "      <th>0</th>\n",
       "      <td>0</td>\n",
       "      <td>2019-04-01 00:00:31</td>\n",
       "      <td>596</td>\n",
       "      <td>3156</td>\n",
       "      <td>57.16</td>\n",
       "      <td>31</td>\n",
       "      <td>0</td>\n",
       "      <td>0</td>\n",
       "      <td>0</td>\n",
       "    </tr>\n",
       "    <tr>\n",
       "      <th>1</th>\n",
       "      <td>1</td>\n",
       "      <td>2019-04-01 00:02:10</td>\n",
       "      <td>4961</td>\n",
       "      <td>3412</td>\n",
       "      <td>81.51</td>\n",
       "      <td>130</td>\n",
       "      <td>0</td>\n",
       "      <td>0</td>\n",
       "      <td>0</td>\n",
       "    </tr>\n",
       "    <tr>\n",
       "      <th>2</th>\n",
       "      <td>2</td>\n",
       "      <td>2019-04-01 00:07:56</td>\n",
       "      <td>2</td>\n",
       "      <td>1365</td>\n",
       "      <td>146.00</td>\n",
       "      <td>476</td>\n",
       "      <td>0</td>\n",
       "      <td>0</td>\n",
       "      <td>0</td>\n",
       "    </tr>\n",
       "    <tr>\n",
       "      <th>3</th>\n",
       "      <td>3</td>\n",
       "      <td>2019-04-01 00:09:29</td>\n",
       "      <td>4128</td>\n",
       "      <td>8737</td>\n",
       "      <td>64.49</td>\n",
       "      <td>569</td>\n",
       "      <td>0</td>\n",
       "      <td>0</td>\n",
       "      <td>0</td>\n",
       "    </tr>\n",
       "    <tr>\n",
       "      <th>4</th>\n",
       "      <td>4</td>\n",
       "      <td>2019-04-01 00:10:34</td>\n",
       "      <td>927</td>\n",
       "      <td>9906</td>\n",
       "      <td>50.99</td>\n",
       "      <td>634</td>\n",
       "      <td>0</td>\n",
       "      <td>0</td>\n",
       "      <td>0</td>\n",
       "    </tr>\n",
       "    <tr>\n",
       "      <th>5</th>\n",
       "      <td>5</td>\n",
       "      <td>2019-04-01 00:10:45</td>\n",
       "      <td>568</td>\n",
       "      <td>8803</td>\n",
       "      <td>44.71</td>\n",
       "      <td>645</td>\n",
       "      <td>0</td>\n",
       "      <td>0</td>\n",
       "      <td>0</td>\n",
       "    </tr>\n",
       "    <tr>\n",
       "      <th>6</th>\n",
       "      <td>6</td>\n",
       "      <td>2019-04-01 00:11:30</td>\n",
       "      <td>2803</td>\n",
       "      <td>5490</td>\n",
       "      <td>96.03</td>\n",
       "      <td>690</td>\n",
       "      <td>0</td>\n",
       "      <td>0</td>\n",
       "      <td>0</td>\n",
       "    </tr>\n",
       "    <tr>\n",
       "      <th>7</th>\n",
       "      <td>7</td>\n",
       "      <td>2019-04-01 00:11:44</td>\n",
       "      <td>4684</td>\n",
       "      <td>2486</td>\n",
       "      <td>24.36</td>\n",
       "      <td>704</td>\n",
       "      <td>0</td>\n",
       "      <td>0</td>\n",
       "      <td>0</td>\n",
       "    </tr>\n",
       "    <tr>\n",
       "      <th>8</th>\n",
       "      <td>8</td>\n",
       "      <td>2019-04-01 00:11:53</td>\n",
       "      <td>4128</td>\n",
       "      <td>8354</td>\n",
       "      <td>26.34</td>\n",
       "      <td>713</td>\n",
       "      <td>0</td>\n",
       "      <td>0</td>\n",
       "      <td>0</td>\n",
       "    </tr>\n",
       "    <tr>\n",
       "      <th>9</th>\n",
       "      <td>9</td>\n",
       "      <td>2019-04-01 00:13:44</td>\n",
       "      <td>541</td>\n",
       "      <td>6212</td>\n",
       "      <td>59.07</td>\n",
       "      <td>824</td>\n",
       "      <td>0</td>\n",
       "      <td>0</td>\n",
       "      <td>0</td>\n",
       "    </tr>\n",
       "  </tbody>\n",
       "</table>\n",
       "</div>"
      ],
      "text/plain": [
       "   TRANSACTION_ID         TX_DATETIME  CUSTOMER_ID  TERMINAL_ID  TX_AMOUNT  \\\n",
       "0               0 2019-04-01 00:00:31          596         3156      57.16   \n",
       "1               1 2019-04-01 00:02:10         4961         3412      81.51   \n",
       "2               2 2019-04-01 00:07:56            2         1365     146.00   \n",
       "3               3 2019-04-01 00:09:29         4128         8737      64.49   \n",
       "4               4 2019-04-01 00:10:34          927         9906      50.99   \n",
       "5               5 2019-04-01 00:10:45          568         8803      44.71   \n",
       "6               6 2019-04-01 00:11:30         2803         5490      96.03   \n",
       "7               7 2019-04-01 00:11:44         4684         2486      24.36   \n",
       "8               8 2019-04-01 00:11:53         4128         8354      26.34   \n",
       "9               9 2019-04-01 00:13:44          541         6212      59.07   \n",
       "\n",
       "   TX_TIME_SECONDS  TX_TIME_DAYS  TX_FRAUD  TX_FRAUD_SCENARIO  \n",
       "0               31             0         0                  0  \n",
       "1              130             0         0                  0  \n",
       "2              476             0         0                  0  \n",
       "3              569             0         0                  0  \n",
       "4              634             0         0                  0  \n",
       "5              645             0         0                  0  \n",
       "6              690             0         0                  0  \n",
       "7              704             0         0                  0  \n",
       "8              713             0         0                  0  \n",
       "9              824             0         0                  0  "
      ]
     },
     "execution_count": 16,
     "metadata": {},
     "output_type": "execute_result"
    }
   ],
   "source": [
    "pandas_sample = session.sql(\"SELECT * FROM CUSTOMER_TRANSACTIONS_FRAUD LIMIT 10\").toPandas()\n",
    "pandas_sample"
   ]
  },
  {
   "cell_type": "code",
   "execution_count": 17,
   "id": "0c8f84da-c282-4a27-bf5e-b9f60b47162b",
   "metadata": {},
   "outputs": [],
   "source": [
    "session.close()"
   ]
  },
  {
   "cell_type": "code",
   "execution_count": 18,
   "id": "378b077e-7707-4ae9-b752-d74e7080057f",
   "metadata": {},
   "outputs": [],
   "source": [
    "#session.cancel_all()"
   ]
  },
  {
   "cell_type": "code",
   "execution_count": null,
   "id": "e90c4895-487b-415e-944a-6555dae6223f",
   "metadata": {},
   "outputs": [],
   "source": []
  },
  {
   "cell_type": "code",
   "execution_count": null,
   "id": "6ccf8dac",
   "metadata": {},
   "outputs": [],
   "source": []
  },
  {
   "cell_type": "code",
   "execution_count": null,
   "id": "3083b02e",
   "metadata": {},
   "outputs": [],
   "source": []
  }
 ],
 "metadata": {
  "kernelspec": {
   "display_name": "Python 3.8.15 ('snowpark')",
   "language": "python",
   "name": "python3"
  },
  "language_info": {
   "codemirror_mode": {
    "name": "ipython",
    "version": 3
   },
   "file_extension": ".py",
   "mimetype": "text/x-python",
   "name": "python",
   "nbconvert_exporter": "python",
   "pygments_lexer": "ipython3",
   "version": "3.8.15"
  },
  "vscode": {
   "interpreter": {
    "hash": "12dd8bc7f1af26fb1705e9746ec5ee1b2bc30d3051894c4f7fbccce4e2557a63"
   }
  }
 },
 "nbformat": 4,
 "nbformat_minor": 5
}
